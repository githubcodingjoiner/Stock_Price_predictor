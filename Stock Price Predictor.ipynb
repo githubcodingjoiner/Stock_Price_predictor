{
 "cells": [
  {
   "cell_type": "code",
   "execution_count": 74,
   "id": "749e5fe4-964d-4f96-b88f-ba0d34eccdfe",
   "metadata": {},
   "outputs": [],
   "source": [
    "import numpy as np\n",
    "import pandas as pd\n",
    "import matplotlib.pyplot as plt\n",
    "import seaborn as sns\n",
    "import math"
   ]
  },
  {
   "cell_type": "code",
   "execution_count": 75,
   "id": "535b9a93-006d-41a4-8e84-b8ee503763f5",
   "metadata": {},
   "outputs": [],
   "source": [
    "df=pd.read_csv(\"TCS1.CSV\")"
   ]
  },
  {
   "cell_type": "code",
   "execution_count": 76,
   "id": "a1dfae97-dd4c-414f-8c44-67faf686ca8b",
   "metadata": {},
   "outputs": [
    {
     "data": {
      "text/html": [
       "<div>\n",
       "<style scoped>\n",
       "    .dataframe tbody tr th:only-of-type {\n",
       "        vertical-align: middle;\n",
       "    }\n",
       "\n",
       "    .dataframe tbody tr th {\n",
       "        vertical-align: top;\n",
       "    }\n",
       "\n",
       "    .dataframe thead th {\n",
       "        text-align: right;\n",
       "    }\n",
       "</style>\n",
       "<table border=\"1\" class=\"dataframe\">\n",
       "  <thead>\n",
       "    <tr style=\"text-align: right;\">\n",
       "      <th></th>\n",
       "      <th>Date</th>\n",
       "      <th>Open</th>\n",
       "      <th>High</th>\n",
       "      <th>Low</th>\n",
       "      <th>Close</th>\n",
       "      <th>Adj Close</th>\n",
       "      <th>Volume</th>\n",
       "    </tr>\n",
       "  </thead>\n",
       "  <tbody>\n",
       "    <tr>\n",
       "      <th>0</th>\n",
       "      <td>2004-08-27</td>\n",
       "      <td>122.800003</td>\n",
       "      <td>122.800003</td>\n",
       "      <td>119.820000</td>\n",
       "      <td>120.332497</td>\n",
       "      <td>88.088272</td>\n",
       "      <td>30646000.0</td>\n",
       "    </tr>\n",
       "    <tr>\n",
       "      <th>1</th>\n",
       "      <td>2004-08-30</td>\n",
       "      <td>121.237503</td>\n",
       "      <td>123.750000</td>\n",
       "      <td>120.625000</td>\n",
       "      <td>123.345001</td>\n",
       "      <td>90.293549</td>\n",
       "      <td>24465208.0</td>\n",
       "    </tr>\n",
       "    <tr>\n",
       "      <th>2</th>\n",
       "      <td>2004-08-31</td>\n",
       "      <td>123.312500</td>\n",
       "      <td>123.750000</td>\n",
       "      <td>122.000000</td>\n",
       "      <td>123.512497</td>\n",
       "      <td>90.416122</td>\n",
       "      <td>21194656.0</td>\n",
       "    </tr>\n",
       "    <tr>\n",
       "      <th>3</th>\n",
       "      <td>2004-09-01</td>\n",
       "      <td>123.750000</td>\n",
       "      <td>124.375000</td>\n",
       "      <td>122.949997</td>\n",
       "      <td>123.487503</td>\n",
       "      <td>90.397820</td>\n",
       "      <td>19935544.0</td>\n",
       "    </tr>\n",
       "    <tr>\n",
       "      <th>4</th>\n",
       "      <td>2004-09-02</td>\n",
       "      <td>123.737503</td>\n",
       "      <td>125.574997</td>\n",
       "      <td>123.250000</td>\n",
       "      <td>124.207497</td>\n",
       "      <td>90.924896</td>\n",
       "      <td>21356352.0</td>\n",
       "    </tr>\n",
       "    <tr>\n",
       "      <th>...</th>\n",
       "      <td>...</td>\n",
       "      <td>...</td>\n",
       "      <td>...</td>\n",
       "      <td>...</td>\n",
       "      <td>...</td>\n",
       "      <td>...</td>\n",
       "      <td>...</td>\n",
       "    </tr>\n",
       "    <tr>\n",
       "      <th>4489</th>\n",
       "      <td>2022-10-18</td>\n",
       "      <td>3150.000000</td>\n",
       "      <td>3155.350098</td>\n",
       "      <td>3128.550049</td>\n",
       "      <td>3144.699951</td>\n",
       "      <td>3144.699951</td>\n",
       "      <td>1793722.0</td>\n",
       "    </tr>\n",
       "    <tr>\n",
       "      <th>4490</th>\n",
       "      <td>2022-10-19</td>\n",
       "      <td>3159.000000</td>\n",
       "      <td>3159.000000</td>\n",
       "      <td>3112.000000</td>\n",
       "      <td>3121.850098</td>\n",
       "      <td>3121.850098</td>\n",
       "      <td>1194289.0</td>\n",
       "    </tr>\n",
       "    <tr>\n",
       "      <th>4491</th>\n",
       "      <td>2022-10-20</td>\n",
       "      <td>3105.000000</td>\n",
       "      <td>3160.000000</td>\n",
       "      <td>3105.000000</td>\n",
       "      <td>3157.300049</td>\n",
       "      <td>3157.300049</td>\n",
       "      <td>1587601.0</td>\n",
       "    </tr>\n",
       "    <tr>\n",
       "      <th>4492</th>\n",
       "      <td>2022-10-21</td>\n",
       "      <td>3157.800049</td>\n",
       "      <td>3160.399902</td>\n",
       "      <td>3127.000000</td>\n",
       "      <td>3137.399902</td>\n",
       "      <td>3137.399902</td>\n",
       "      <td>1021913.0</td>\n",
       "    </tr>\n",
       "    <tr>\n",
       "      <th>4493</th>\n",
       "      <td>2022-10-24</td>\n",
       "      <td>3170.100098</td>\n",
       "      <td>3178.000000</td>\n",
       "      <td>3155.000000</td>\n",
       "      <td>3161.699951</td>\n",
       "      <td>3161.699951</td>\n",
       "      <td>260949.0</td>\n",
       "    </tr>\n",
       "  </tbody>\n",
       "</table>\n",
       "<p>4494 rows × 7 columns</p>\n",
       "</div>"
      ],
      "text/plain": [
       "            Date         Open         High          Low        Close  \\\n",
       "0     2004-08-27   122.800003   122.800003   119.820000   120.332497   \n",
       "1     2004-08-30   121.237503   123.750000   120.625000   123.345001   \n",
       "2     2004-08-31   123.312500   123.750000   122.000000   123.512497   \n",
       "3     2004-09-01   123.750000   124.375000   122.949997   123.487503   \n",
       "4     2004-09-02   123.737503   125.574997   123.250000   124.207497   \n",
       "...          ...          ...          ...          ...          ...   \n",
       "4489  2022-10-18  3150.000000  3155.350098  3128.550049  3144.699951   \n",
       "4490  2022-10-19  3159.000000  3159.000000  3112.000000  3121.850098   \n",
       "4491  2022-10-20  3105.000000  3160.000000  3105.000000  3157.300049   \n",
       "4492  2022-10-21  3157.800049  3160.399902  3127.000000  3137.399902   \n",
       "4493  2022-10-24  3170.100098  3178.000000  3155.000000  3161.699951   \n",
       "\n",
       "        Adj Close      Volume  \n",
       "0       88.088272  30646000.0  \n",
       "1       90.293549  24465208.0  \n",
       "2       90.416122  21194656.0  \n",
       "3       90.397820  19935544.0  \n",
       "4       90.924896  21356352.0  \n",
       "...           ...         ...  \n",
       "4489  3144.699951   1793722.0  \n",
       "4490  3121.850098   1194289.0  \n",
       "4491  3157.300049   1587601.0  \n",
       "4492  3137.399902   1021913.0  \n",
       "4493  3161.699951    260949.0  \n",
       "\n",
       "[4494 rows x 7 columns]"
      ]
     },
     "execution_count": 76,
     "metadata": {},
     "output_type": "execute_result"
    }
   ],
   "source": [
    "df"
   ]
  },
  {
   "cell_type": "code",
   "execution_count": 77,
   "id": "7484003f-a3f8-4860-9df6-24166cc60e50",
   "metadata": {},
   "outputs": [
    {
     "name": "stdout",
     "output_type": "stream",
     "text": [
      "<class 'pandas.core.frame.DataFrame'>\n",
      "RangeIndex: 4494 entries, 0 to 4493\n",
      "Data columns (total 7 columns):\n",
      " #   Column     Non-Null Count  Dtype  \n",
      "---  ------     --------------  -----  \n",
      " 0   Date       4494 non-null   object \n",
      " 1   Open       4486 non-null   float64\n",
      " 2   High       4486 non-null   float64\n",
      " 3   Low        4486 non-null   float64\n",
      " 4   Close      4486 non-null   float64\n",
      " 5   Adj Close  4486 non-null   float64\n",
      " 6   Volume     4486 non-null   float64\n",
      "dtypes: float64(6), object(1)\n",
      "memory usage: 245.9+ KB\n"
     ]
    }
   ],
   "source": [
    "df.info()"
   ]
  },
  {
   "cell_type": "code",
   "execution_count": 78,
   "id": "de590171-69c8-4770-a600-e74280ade8c3",
   "metadata": {},
   "outputs": [
    {
     "data": {
      "text/html": [
       "<div>\n",
       "<style scoped>\n",
       "    .dataframe tbody tr th:only-of-type {\n",
       "        vertical-align: middle;\n",
       "    }\n",
       "\n",
       "    .dataframe tbody tr th {\n",
       "        vertical-align: top;\n",
       "    }\n",
       "\n",
       "    .dataframe thead th {\n",
       "        text-align: right;\n",
       "    }\n",
       "</style>\n",
       "<table border=\"1\" class=\"dataframe\">\n",
       "  <thead>\n",
       "    <tr style=\"text-align: right;\">\n",
       "      <th></th>\n",
       "      <th>Open</th>\n",
       "      <th>High</th>\n",
       "      <th>Low</th>\n",
       "      <th>Close</th>\n",
       "      <th>Adj Close</th>\n",
       "      <th>Volume</th>\n",
       "    </tr>\n",
       "  </thead>\n",
       "  <tbody>\n",
       "    <tr>\n",
       "      <th>count</th>\n",
       "      <td>4486.000000</td>\n",
       "      <td>4486.000000</td>\n",
       "      <td>4486.000000</td>\n",
       "      <td>4486.000000</td>\n",
       "      <td>4486.000000</td>\n",
       "      <td>4.486000e+03</td>\n",
       "    </tr>\n",
       "    <tr>\n",
       "      <th>mean</th>\n",
       "      <td>1146.182768</td>\n",
       "      <td>1158.538059</td>\n",
       "      <td>1132.825428</td>\n",
       "      <td>1145.521462</td>\n",
       "      <td>1049.456965</td>\n",
       "      <td>3.620596e+06</td>\n",
       "    </tr>\n",
       "    <tr>\n",
       "      <th>std</th>\n",
       "      <td>994.070086</td>\n",
       "      <td>1003.010607</td>\n",
       "      <td>984.043404</td>\n",
       "      <td>993.346465</td>\n",
       "      <td>992.062558</td>\n",
       "      <td>3.162368e+06</td>\n",
       "    </tr>\n",
       "    <tr>\n",
       "      <th>min</th>\n",
       "      <td>112.000000</td>\n",
       "      <td>116.112503</td>\n",
       "      <td>103.837502</td>\n",
       "      <td>111.550003</td>\n",
       "      <td>86.565590</td>\n",
       "      <td>0.000000e+00</td>\n",
       "    </tr>\n",
       "    <tr>\n",
       "      <th>25%</th>\n",
       "      <td>290.693748</td>\n",
       "      <td>295.300010</td>\n",
       "      <td>285.931259</td>\n",
       "      <td>290.275009</td>\n",
       "      <td>219.902748</td>\n",
       "      <td>1.942489e+06</td>\n",
       "    </tr>\n",
       "    <tr>\n",
       "      <th>50%</th>\n",
       "      <td>977.450012</td>\n",
       "      <td>995.000000</td>\n",
       "      <td>970.250000</td>\n",
       "      <td>981.337524</td>\n",
       "      <td>820.627839</td>\n",
       "      <td>2.804749e+06</td>\n",
       "    </tr>\n",
       "    <tr>\n",
       "      <th>75%</th>\n",
       "      <td>1564.774963</td>\n",
       "      <td>1597.287476</td>\n",
       "      <td>1548.662537</td>\n",
       "      <td>1576.781219</td>\n",
       "      <td>1443.631561</td>\n",
       "      <td>4.297410e+06</td>\n",
       "    </tr>\n",
       "    <tr>\n",
       "      <th>max</th>\n",
       "      <td>4033.949951</td>\n",
       "      <td>4043.000000</td>\n",
       "      <td>3980.000000</td>\n",
       "      <td>4019.149902</td>\n",
       "      <td>3964.502686</td>\n",
       "      <td>8.806715e+07</td>\n",
       "    </tr>\n",
       "  </tbody>\n",
       "</table>\n",
       "</div>"
      ],
      "text/plain": [
       "              Open         High          Low        Close    Adj Close  \\\n",
       "count  4486.000000  4486.000000  4486.000000  4486.000000  4486.000000   \n",
       "mean   1146.182768  1158.538059  1132.825428  1145.521462  1049.456965   \n",
       "std     994.070086  1003.010607   984.043404   993.346465   992.062558   \n",
       "min     112.000000   116.112503   103.837502   111.550003    86.565590   \n",
       "25%     290.693748   295.300010   285.931259   290.275009   219.902748   \n",
       "50%     977.450012   995.000000   970.250000   981.337524   820.627839   \n",
       "75%    1564.774963  1597.287476  1548.662537  1576.781219  1443.631561   \n",
       "max    4033.949951  4043.000000  3980.000000  4019.149902  3964.502686   \n",
       "\n",
       "             Volume  \n",
       "count  4.486000e+03  \n",
       "mean   3.620596e+06  \n",
       "std    3.162368e+06  \n",
       "min    0.000000e+00  \n",
       "25%    1.942489e+06  \n",
       "50%    2.804749e+06  \n",
       "75%    4.297410e+06  \n",
       "max    8.806715e+07  "
      ]
     },
     "execution_count": 78,
     "metadata": {},
     "output_type": "execute_result"
    }
   ],
   "source": [
    "df.describe()"
   ]
  },
  {
   "cell_type": "code",
   "execution_count": 79,
   "id": "5d2c817f-4c12-4ea4-9e5d-0e6b4d04ea01",
   "metadata": {},
   "outputs": [
    {
     "data": {
      "text/plain": [
       "Date         0\n",
       "Open         8\n",
       "High         8\n",
       "Low          8\n",
       "Close        8\n",
       "Adj Close    8\n",
       "Volume       8\n",
       "dtype: int64"
      ]
     },
     "execution_count": 79,
     "metadata": {},
     "output_type": "execute_result"
    }
   ],
   "source": [
    "df.isnull().sum()"
   ]
  },
  {
   "cell_type": "code",
   "execution_count": 80,
   "id": "19f936a0-9307-4c99-9a6f-e386aac789a5",
   "metadata": {},
   "outputs": [],
   "source": [
    "mode = df['Open'].mode()[0]\n",
    "df['Open'] = df['Open'].fillna(mode)"
   ]
  },
  {
   "cell_type": "code",
   "execution_count": 81,
   "id": "917afaa8-260f-4a4f-9cca-904517a990b2",
   "metadata": {},
   "outputs": [],
   "source": [
    "mode = df['High'].mode()[0]\n",
    "df['High'] = df['High'].fillna(mode)"
   ]
  },
  {
   "cell_type": "code",
   "execution_count": 82,
   "id": "610b6554-910a-411e-b414-c390d34fd71e",
   "metadata": {},
   "outputs": [],
   "source": [
    "mode = df['Low'].mode()[0]\n",
    "df['Low'] = df['Low'].fillna(mode)"
   ]
  },
  {
   "cell_type": "code",
   "execution_count": 83,
   "id": "e880f8f2-6500-4bdf-a615-7a66d7028d0e",
   "metadata": {},
   "outputs": [],
   "source": [
    "mode = df['Close'].mode()[0]\n",
    "df['Close'] = df['Close'].fillna(mode)"
   ]
  },
  {
   "cell_type": "code",
   "execution_count": 84,
   "id": "973d0563-5233-4444-94d7-002bdfa1aaff",
   "metadata": {},
   "outputs": [],
   "source": [
    "mode = df['Adj Close'].mode()[0]\n",
    "df['Adj Close'] = df['Adj Close'].fillna(mode)"
   ]
  },
  {
   "cell_type": "code",
   "execution_count": 85,
   "id": "91107672-1de3-4345-a3b7-6f4ce1ce065f",
   "metadata": {},
   "outputs": [],
   "source": [
    "mode = df['Volume'].mode()[0]\n",
    "df['Volume'] = df['Volume'].fillna(mode)"
   ]
  },
  {
   "cell_type": "code",
   "execution_count": 86,
   "id": "df46f68c-a9a9-45d5-951e-365ae69d1ffd",
   "metadata": {},
   "outputs": [
    {
     "data": {
      "text/plain": [
       "Date         0\n",
       "Open         0\n",
       "High         0\n",
       "Low          0\n",
       "Close        0\n",
       "Adj Close    0\n",
       "Volume       0\n",
       "dtype: int64"
      ]
     },
     "execution_count": 86,
     "metadata": {},
     "output_type": "execute_result"
    }
   ],
   "source": [
    "df.isnull().sum()"
   ]
  },
  {
   "cell_type": "code",
   "execution_count": 87,
   "id": "086b68f3-7634-49c2-8940-316882cf1d0e",
   "metadata": {},
   "outputs": [
    {
     "data": {
      "text/plain": [
       "(4494, 7)"
      ]
     },
     "execution_count": 87,
     "metadata": {},
     "output_type": "execute_result"
    }
   ],
   "source": [
    "df.shape"
   ]
  },
  {
   "cell_type": "code",
   "execution_count": 88,
   "id": "72918bf8-e18d-4e35-b437-f463a13606fe",
   "metadata": {},
   "outputs": [
    {
     "data": {
      "image/png": "[encoded data removed]",
      "text/plain": [
       "<Figure size 1600x800 with 1 Axes>"
      ]
     },
     "metadata": {},
     "output_type": "display_data"
    }
   ],
   "source": [
    "plt.figure(figsize=(16,8))\n",
    "plt.title('Close')\n",
    "plt.plot(df['Close'])\n",
    "plt.xlabel('Date',fontsize= 18)\n",
    "plt.ylabel('Close_Price USD $',fontsize=18)\n",
    "plt.show()"
   ]
  },
  {
   "cell_type": "code",
   "execution_count": 89,
   "id": "81c46cf9-07ad-4ec3-8e3e-473e15b5813a",
   "metadata": {},
   "outputs": [],
   "source": [
    "from sklearn.preprocessing import MinMaxScaler"
   ]
  },
  {
   "cell_type": "code",
   "execution_count": 90,
   "id": "716f76ce-a4f6-4e65-9a3f-19976758a577",
   "metadata": {},
   "outputs": [],
   "source": [
    "scalar = MinMaxScaler(feature_range=(0,1))"
   ]
  },
  {
   "cell_type": "code",
   "execution_count": 91,
   "id": "2d1e9aae-ead3-45a1-85a7-d9e4e93d85f6",
   "metadata": {},
   "outputs": [],
   "source": [
    "scaled_df = scalar.fit_transform(df.iloc[1:].drop(['Date'], axis=1))"
   ]
  },
  {
   "cell_type": "code",
   "execution_count": 92,
   "id": "a8c612cd-6a54-488e-ba6c-8dbb44e16939",
   "metadata": {},
   "outputs": [
    {
     "data": {
      "text/plain": [
       "(4493, 6)"
      ]
     },
     "execution_count": 92,
     "metadata": {},
     "output_type": "execute_result"
    }
   ],
   "source": [
    "scaled_df.shape"
   ]
  },
  {
   "cell_type": "code",
   "execution_count": 93,
   "id": "8b41c8fe-ba14-4877-ae7a-c2320349779c",
   "metadata": {},
   "outputs": [],
   "source": [
    "data = df.filter(['Close'])"
   ]
  },
  {
   "cell_type": "code",
   "execution_count": 94,
   "id": "1db00195-8081-44e9-835e-3b733e6db8cf",
   "metadata": {},
   "outputs": [],
   "source": [
    "dataset=data.values\n",
    "training_data_len = math.ceil(len(dataset)* .8)"
   ]
  },
  {
   "cell_type": "code",
   "execution_count": 95,
   "id": "72137eb8-bc6e-45e8-86b4-558b2137feff",
   "metadata": {},
   "outputs": [
    {
     "data": {
      "text/plain": [
       "3596"
      ]
     },
     "execution_count": 95,
     "metadata": {},
     "output_type": "execute_result"
    }
   ],
   "source": [
    "training_data_len"
   ]
  },
  {
   "cell_type": "code",
   "execution_count": 96,
   "id": "e241ce57-5c34-4bed-a0e8-0fd425b49efe",
   "metadata": {},
   "outputs": [],
   "source": [
    "scaled_dataset = scalar.fit_transform(dataset)"
   ]
  },
  {
   "cell_type": "code",
   "execution_count": 97,
   "id": "6e9f760c-6cbf-464d-878c-3f74bb31ff3e",
   "metadata": {},
   "outputs": [
    {
     "data": {
      "text/plain": [
       "array([[0.00224754],\n",
       "       [0.00301848],\n",
       "       [0.00306134],\n",
       "       ...,\n",
       "       [0.77944266],\n",
       "       [0.77434998],\n",
       "       [0.78056864]])"
      ]
     },
     "execution_count": 97,
     "metadata": {},
     "output_type": "execute_result"
    }
   ],
   "source": [
    "scaled_dataset"
   ]
  },
  {
   "cell_type": "code",
   "execution_count": 98,
   "id": "18e26ed5-888c-48de-8c07-c21ebb877ce2",
   "metadata": {},
   "outputs": [],
   "source": [
    "train_data = scaled_dataset[0:training_data_len, :]"
   ]
  },
  {
   "cell_type": "code",
   "execution_count": 99,
   "id": "1753bac4-58e4-41a0-a35a-3f4bd8e6e256",
   "metadata": {},
   "outputs": [
    {
     "data": {
      "text/plain": [
       "(3596, 1)"
      ]
     },
     "execution_count": 99,
     "metadata": {},
     "output_type": "execute_result"
    }
   ],
   "source": [
    "train_data.shape"
   ]
  },
  {
   "cell_type": "code",
   "execution_count": 100,
   "id": "f75e86ad-7ae1-4be8-9ae1-9c99d986de6d",
   "metadata": {},
   "outputs": [
    {
     "name": "stdout",
     "output_type": "stream",
     "text": [
      "[array([0.00224754, 0.00301848, 0.00306134, 0.00305494, 0.0032392 ,\n",
      "       0.00337355, 0.00327759, 0.00330126, 0.00324048, 0.00280095,\n",
      "       0.00308373, 0.00355397, 0.00394296, 0.00363714, 0.00371264,\n",
      "       0.00422574, 0.00417456, 0.0049071 , 0.00510736, 0.00441   ,\n",
      "       0.00436329, 0.0041061 , 0.00393976, 0.00443367, 0.00430891,\n",
      "       0.00496788, 0.00588916, 0.00602352, 0.00605231, 0.00654814,\n",
      "       0.00657885, 0.00629862, 0.00614379, 0.29211666, 0.00715912,\n",
      "       0.00747262, 0.00783281, 0.00802283, 0.00770486, 0.00745854,\n",
      "       0.00745854, 0.00719623, 0.00783089, 0.00791726, 0.00875089,\n",
      "       0.0084406 , 0.00890124, 0.00855064, 0.00904647, 0.00889293,\n",
      "       0.0087349 , 0.00933309, 0.00946873, 0.00965938, 0.00972016,\n",
      "       0.00973615, 0.00973615, 0.0095487 , 0.01001254, 0.01083146])]\n",
      "[0.010386809051353186]\n",
      "\n"
     ]
    }
   ],
   "source": [
    "x_train=[]\n",
    "y_train=[]\n",
    "\n",
    "for i in range(60,len(train_data)):\n",
    "    x_train.append(train_data[i-60:i, 0])\n",
    "    y_train.append(train_data[i,0])\n",
    "    if (i<=60):\n",
    "        print(x_train)\n",
    "        print(y_train)\n",
    "        print()"
   ]
  },
  {
   "cell_type": "code",
   "execution_count": 101,
   "id": "95cc85d9-60ee-4320-898d-a6fb370ed586",
   "metadata": {},
   "outputs": [],
   "source": [
    "x_train , y_train=np.array(x_train), np.array(y_train)"
   ]
  },
  {
   "cell_type": "code",
   "execution_count": 102,
   "id": "0254f5ba-c020-4273-ac00-83084daaa7d7",
   "metadata": {},
   "outputs": [
    {
     "data": {
      "text/plain": [
       "(3536, 60, 1)"
      ]
     },
     "execution_count": 102,
     "metadata": {},
     "output_type": "execute_result"
    }
   ],
   "source": [
    "x_train=np.reshape(x_train,(x_train.shape[0],x_train.shape[1],1))\n",
    "x_train.shape"
   ]
  },
  {
   "cell_type": "code",
   "execution_count": 103,
   "id": "757785e7-eb80-4b95-ab30-bbe61bffb9d4",
   "metadata": {},
   "outputs": [],
   "source": [
    "from keras.models import Sequential\n",
    "from keras.layers import Dense,LSTM"
   ]
  },
  {
   "cell_type": "code",
   "execution_count": 104,
   "id": "b8f57c97-0454-4651-8a5f-58bdc8910153",
   "metadata": {},
   "outputs": [],
   "source": [
    "model = Sequential()"
   ]
  },
  {
   "cell_type": "code",
   "execution_count": 105,
   "id": "09f2cc01-1be5-4611-b302-aae1d48a8474",
   "metadata": {},
   "outputs": [],
   "source": [
    "model.add(LSTM(50,return_sequences=True, input_shape=(x_train.shape[1],1)))\n",
    "model.add(LSTM(50,return_sequences=False))\n",
    "model.add(Dense(25))\n",
    "model.add(Dense(1))"
   ]
  },
  {
   "cell_type": "code",
   "execution_count": 106,
   "id": "c99cae03-c6a6-4568-80a1-6c85b18c0448",
   "metadata": {},
   "outputs": [],
   "source": [
    "model.compile(optimizer= 'adam',loss='mean_squared_error')"
   ]
  },
  {
   "cell_type": "code",
   "execution_count": 107,
   "id": "548890ec-2f1e-4c22-8683-5fa621a0a7fa",
   "metadata": {},
   "outputs": [
    {
     "name": "stdout",
     "output_type": "stream",
     "text": [
      "3536/3536 [==============================] - 132s 36ms/step - loss: 4.0471e-04\n"
     ]
    },
    {
     "data": {
      "text/plain": [
       "<keras.src.callbacks.History at 0x17772fc93f0>"
      ]
     },
     "execution_count": 107,
     "metadata": {},
     "output_type": "execute_result"
    }
   ],
   "source": [
    "model.fit(x_train,y_train,batch_size=1,epochs=1)"
   ]
  },
  {
   "cell_type": "code",
   "execution_count": 108,
   "id": "cd07e8dc-7ad7-4e37-9c2a-316887f6df11",
   "metadata": {},
   "outputs": [],
   "source": [
    "test_data=scaled_dataset[training_data_len - 60 : , :]\n",
    "x_test=[]\n",
    "y_test=dataset[training_data_len:, :]\n",
    "for i in range(60,len(test_data)):\n",
    "    x_test.append(test_data[i-60:i,0])"
   ]
  },
  {
   "cell_type": "code",
   "execution_count": 109,
   "id": "670fba6d-4d17-49fd-ae21-9f537b8a5d36",
   "metadata": {},
   "outputs": [],
   "source": [
    "x_test = np.array(x_test)"
   ]
  },
  {
   "cell_type": "code",
   "execution_count": 110,
   "id": "d436abae-14eb-4cb8-bcf6-fb2e61f8d76f",
   "metadata": {},
   "outputs": [],
   "source": [
    "x_test=np.reshape(x_test,(x_test.shape[0],x_test.shape[1],1))"
   ]
  },
  {
   "cell_type": "code",
   "execution_count": 111,
   "id": "3cf965bb-a133-409e-ba47-df7ac49f19b8",
   "metadata": {},
   "outputs": [
    {
     "data": {
      "text/plain": [
       "(898, 60, 1)"
      ]
     },
     "execution_count": 111,
     "metadata": {},
     "output_type": "execute_result"
    }
   ],
   "source": [
    "x_test.shape"
   ]
  },
  {
   "cell_type": "code",
   "execution_count": 112,
   "id": "5c3fae8d-2534-4560-91b1-e19cd2111271",
   "metadata": {},
   "outputs": [
    {
     "name": "stdout",
     "output_type": "stream",
     "text": [
      "29/29 [==============================] - 3s 32ms/step\n"
     ]
    }
   ],
   "source": [
    "pred = model.predict(x_test)"
   ]
  },
  {
   "cell_type": "code",
   "execution_count": 113,
   "id": "c78c96ba-0e51-412e-b0dd-12b092d52ccb",
   "metadata": {},
   "outputs": [],
   "source": [
    "predictions=scalar.inverse_transform(pred)"
   ]
  },
  {
   "cell_type": "code",
   "execution_count": 114,
   "id": "5a7ffbd4-daf2-4b38-b7e5-116580f1b02b",
   "metadata": {},
   "outputs": [
    {
     "data": {
      "text/plain": [
       "156.02784439457474"
      ]
     },
     "execution_count": 114,
     "metadata": {},
     "output_type": "execute_result"
    }
   ],
   "source": [
    "rmse=np.sqrt(np.mean(predictions-y_test)**2)\n",
    "rmse"
   ]
  },
  {
   "cell_type": "code",
   "execution_count": 127,
   "id": "699db6d7-8e7c-462d-86ea-fa55e0aebef0",
   "metadata": {},
   "outputs": [
    {
     "name": "stderr",
     "output_type": "stream",
     "text": [
      "C:\\Users\\User\\AppData\\Local\\Temp\\ipykernel_23464\\1574985203.py:3: SettingWithCopyWarning: \n",
      "A value is trying to be set on a copy of a slice from a DataFrame.\n",
      "Try using .loc[row_indexer,col_indexer] = value instead\n",
      "\n",
      "See the caveats in the documentation: https://pandas.pydata.org/pandas-docs/stable/user_guide/indexing.html#returning-a-view-versus-a-copy\n",
      "  test['Predictions'] = predictions\n"
     ]
    },
    {
     "data": {
      "image/png": "[encoded data removed]",
      "text/plain": [
       "<Figure size 1600x800 with 1 Axes>"
      ]
     },
     "metadata": {},
     "output_type": "display_data"
    }
   ],
   "source": [
    "train = data[:training_data_len]\n",
    "test = data[training_data_len:]\n",
    "test['Predictions'] = predictions\n",
    "plt.figure(figsize=(16,8))\n",
    "plt.title('Model')\n",
    "plt.xlabel('Date',fontsize=18)\n",
    "plt.ylabel('Close Price USD($)', fontsize=18)\n",
    "plt.plot(train['Close'])\n",
    "plt.plot(test[['Close','Predictions']])\n",
    "plt.legend(['train','Test','Predictions'],loc='lower right')\n",
    "plt.show()"
   ]
  },
  {
   "cell_type": "code",
   "execution_count": null,
   "id": "47052e39-e696-4eea-81de-f1a47cadae3d",
   "metadata": {},
   "outputs": [],
   "source": []
  },
  {
   "cell_type": "code",
   "execution_count": null,
   "id": "3b952a2f-002c-4725-af02-cb54be65a35a",
   "metadata": {},
   "outputs": [],
   "source": []
  }
 ],
 "metadata": {
  "kernelspec": {
   "display_name": "Python 3 (ipykernel)",
   "language": "python",
   "name": "python3"
  },
  "language_info": {
   "codemirror_mode": {
    "name": "ipython",
    "version": 3
   },
   "file_extension": ".py",
   "mimetype": "text/x-python",
   "name": "python",
   "nbconvert_exporter": "python",
   "pygments_lexer": "ipython3",
   "version": "3.10.9"
  }
 },
 "nbformat": 4,
 "nbformat_minor": 5
}
